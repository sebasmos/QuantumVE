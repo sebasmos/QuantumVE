{
 "cells": [
  {
   "cell_type": "code",
   "execution_count": null,
   "id": "27657915-add1-48ad-8b60-54c3b2cefff6",
   "metadata": {
    "tags": []
   },
   "outputs": [],
   "source": [
    "# !pip install qiskit torch torchvision matplotlib\n",
    "# !pip install qiskit-machine-learning\n",
    "# !pip install torchviz\n",
    "\n",
    "# !pip install qiskit[all]\n",
    "# !pip install qiskit == 0.45.2\n",
    "# !pip install qiskit_algorithms == 0.7.1\n",
    "# !pip install qiskit-ibm-runtime == 0.17.0\n",
    "# !pip install qiskit-aer == 0.13.2\n",
    "\n",
    "# #Quentum net draw\n",
    "# !pip install pylatexenc"
   ]
  },
  {
   "cell_type": "code",
   "execution_count": null,
   "id": "7219c6c2-a201-4be9-ae70-5f8ee318c861",
   "metadata": {
    "tags": []
   },
   "outputs": [],
   "source": [
    "import os\n",
    "MODEL_METADATA = \"SVM\"\n",
    "model_name = \"efficientnet_b3_embeddings_feat_space_16\"#\"efficientnet_v2_m\"#\"convnext_base\"#\"efficientnet_b3\"#\"mobileNet\"\n",
    "results_path = f\"{model_name}/{MODEL_METADATA}\"\n",
    "os.makedirs(results_path, exist_ok = True)\n",
    "train_path = f\"{model_name}/train\"\n",
    "val_path = f\"{model_name}/val\"\n",
    "os.makedirs(train_path, exist_ok = True)\n",
    "os.makedirs(val_path, exist_ok=True)"
   ]
  },
  {
   "cell_type": "code",
   "execution_count": null,
   "id": "9aaeef9a-1f42-41cb-b76e-4ac028d5464b",
   "metadata": {
    "tags": []
   },
   "outputs": [],
   "source": [
    "from qiskit_algorithms.utils import algorithm_globals\n",
    "import pandas as pd\n",
    "import matplotlib.pyplot as plt\n",
    "import seaborn as sns\n",
    "import numpy as np\n",
    "from qiskit.circuit.library import ZZFeatureMap\n",
    "from qiskit.primitives import Sampler\n",
    "from qiskit_algorithms.state_fidelities import ComputeUncompute\n",
    "from qiskit_machine_learning.kernels import FidelityQuantumKernel\n",
    "from sklearn.metrics import confusion_matrix, classification_report\n",
    "algorithm_globals.random_seed = 12345"
   ]
  },
  {
   "cell_type": "markdown",
   "id": "5ad70d6d-ba7d-4e79-b820-c970440a3400",
   "metadata": {},
   "source": [
    "### Load embeddings"
   ]
  },
  {
   "cell_type": "code",
   "execution_count": null,
   "id": "3d7b928c-55f6-42c8-91be-7539c1200146",
   "metadata": {
    "tags": []
   },
   "outputs": [],
   "source": [
    "train_embeddings = pd.read_csv(f'{train_path}/train_embeddings.csv')\n",
    "val_embeddings = pd.read_csv(f'{val_path}/val_embeddings.csv')\n",
    "print(f\"Reading embeddings from: \", train_path)\n",
    "# Prepare data for training\n",
    "train_features = train_embeddings.iloc[:, :-1].values  # Features\n",
    "y_train = train_embeddings.iloc[:, -1].values   # Labels\n",
    "\n",
    "test_features = val_embeddings.iloc[:, :-1].values      # Features\n",
    "y_val = val_embeddings.iloc[:, -1].values       # Labels\n"
   ]
  },
  {
   "cell_type": "code",
   "execution_count": null,
   "id": "db3a02f3-417b-4fb2-8564-2eeee133cae6",
   "metadata": {
    "tags": []
   },
   "outputs": [],
   "source": [
    "plt.figure(figsize=(18, 5))\n",
    "\n",
    "ax = sns.countplot(x=y_train, palette='tab10')\n",
    "\n",
    "total = len(y_train)\n",
    "for p in ax.patches:\n",
    "    percentage = f'{100 * p.get_height() / total:.1f}%\\n'\n",
    "    x = p.get_x() + p.get_width() / 2\n",
    "    y = p.get_height()\n",
    "    ax.annotate(percentage, (x, y), ha='center', va='center')\n",
    "\n",
    "plt.show()\n"
   ]
  },
  {
   "cell_type": "markdown",
   "id": "4952d02c-9280-4a86-8636-7552ea781339",
   "metadata": {},
   "source": [
    "# Binary case\n",
    "\n"
   ]
  },
  {
   "cell_type": "code",
   "execution_count": null,
   "id": "b538a3a4-568c-4b41-987d-794f66c9249b",
   "metadata": {
    "tags": []
   },
   "outputs": [],
   "source": [
    "adhoc_dimension = 16"
   ]
  },
  {
   "cell_type": "code",
   "execution_count": null,
   "id": "e7a65773-b90b-458d-b9a6-f60eb1bcb338",
   "metadata": {
    "tags": []
   },
   "outputs": [],
   "source": [
    "\"\"\"\n",
    "class 0 : {0,2}\n",
    "class 1 : {1,3}\n",
    "\"\"\"\n",
    "label_map = {0: 0, \n",
    "             1: 1, \n",
    "             2: 0, \n",
    "             3: 1, \n",
    "             4: 0}\n",
    "\n",
    "# Merge labels using the dictionary\n",
    "Y_train = np.array([label_map[label] for label in y_train])\n",
    "y_test = np.array([label_map[label] for label in y_val])\n",
    "\n",
    "print(\"labels_train:\", np.unique(Y_train))\n",
    "print(\"test_labels:\", np.unique(y_test))\n"
   ]
  },
  {
   "cell_type": "code",
   "execution_count": null,
   "id": "2279e882-8b6a-4057-8992-9e43e140a999",
   "metadata": {
    "tags": []
   },
   "outputs": [],
   "source": [
    "plt.figure(figsize=(18, 5))\n",
    "\n",
    "ax = sns.countplot(x=Y_train, palette='tab10')\n",
    "\n",
    "total = len(Y_train)\n",
    "for p in ax.patches:\n",
    "    percentage = f'{100 * p.get_height() / total:.1f}%\\n'\n",
    "    x = p.get_x() + p.get_width() / 2\n",
    "    y = p.get_height()\n",
    "    ax.annotate(percentage, (x, y), ha='center', va='center')\n",
    "\n",
    "plt.show()\n"
   ]
  },
  {
   "cell_type": "code",
   "execution_count": null,
   "id": "4f8e3906-2b90-4a94-92ab-499088e6ade3",
   "metadata": {
    "tags": []
   },
   "outputs": [],
   "source": [
    "print(train_features.shape, Y_train.shape)\n",
    "print(test_features.shape, y_test.shape)"
   ]
  },
  {
   "cell_type": "code",
   "execution_count": null,
   "id": "ef598c4b-ba6d-43ac-b1c4-17164216eb2f",
   "metadata": {
    "tags": []
   },
   "outputs": [],
   "source": [
    "adhoc_feature_map = ZZFeatureMap(feature_dimension=adhoc_dimension, reps=2, entanglement=\"linear\")\n",
    "\n",
    "sampler = Sampler()\n",
    "\n",
    "fidelity = ComputeUncompute(sampler=sampler)\n",
    "\n",
    "adhoc_kernel = FidelityQuantumKernel(fidelity=fidelity, feature_map=adhoc_feature_map)"
   ]
  },
  {
   "cell_type": "code",
   "execution_count": null,
   "id": "0cfb3af9-01e1-4f50-8a67-32af80866509",
   "metadata": {
    "tags": []
   },
   "outputs": [],
   "source": [
    "train_features.shape"
   ]
  },
  {
   "cell_type": "code",
   "execution_count": null,
   "id": "94c891c9-bb2d-487b-a95e-72c2dc069fa0",
   "metadata": {
    "tags": []
   },
   "outputs": [],
   "source": [
    "print(train_features.shape, Y_train.shape)\n",
    "print(test_features.shape, y_test.shape)"
   ]
  },
  {
   "cell_type": "code",
   "execution_count": null,
   "id": "6f082475-9118-459a-9c9b-0ec157331bd4",
   "metadata": {
    "tags": []
   },
   "outputs": [],
   "source": [
    "train_features = train_features[:100]\n",
    "test_features = test_features[:20]\n",
    "Y_train = Y_train[:100]\n",
    "y_test = y_test[:20]\n",
    "train_features.shape, test_features.shape, Y_train.shape, y_test.shape"
   ]
  },
  {
   "cell_type": "markdown",
   "id": "6815f00e-92a1-4ac4-b2cf-cac59cf437d4",
   "metadata": {},
   "source": [
    "https://qiskit-community.github.io/qiskit-machine-learning/tutorials/03_quantum_kernel.html"
   ]
  },
  {
   "cell_type": "code",
   "execution_count": null,
   "id": "24ff663b-b35f-4ee7-92c1-0c9c2efe7d54",
   "metadata": {
    "tags": []
   },
   "outputs": [],
   "source": [
    "import time\n",
    "from sklearn.metrics import accuracy_score, precision_score, f1_score, recall_score, fbeta_score\n",
    "from sklearn.svm import SVC\n",
    "\n",
    "# Start timer for training\n",
    "start_train = time.time()\n",
    "\n",
    "adhoc_svc = SVC(kernel=adhoc_kernel.evaluate)\n",
    "adhoc_svc.fit(train_features, Y_train)\n",
    "\n",
    "# End timer for training\n",
    "end_train = time.time()\n",
    "\n",
    "# Start timer for inference\n",
    "start_inference = time.time()\n",
    "\n",
    "predictions = adhoc_svc.predict(test_features)\n",
    "\n",
    "# End timer for inference\n",
    "end_inference = time.time()\n",
    "\n",
    "accuracy = accuracy_score(y_test, predictions)\n",
    "precision = precision_score(y_test, predictions, average='weighted')\n",
    "f1 = f1_score(y_test, predictions, average='weighted')\n",
    "recall = recall_score(y_test, predictions, average='weighted')\n",
    "fbeta_75 = fbeta_score(y_test, predictions, beta=0.75, average='weighted')\n",
    "\n",
    "# Print metrics and time\n",
    "print(f\"Accuracy: {accuracy} Precision: {precision} F1 Score: {f1} Recall: {recall} F0.75 Score: {fbeta_75}\")\n",
    "print(f\"Training time: {end_train - start_train} seconds\")\n",
    "print(f\"Inference time: {end_inference - start_inference} seconds\")"
   ]
  },
  {
   "cell_type": "code",
   "execution_count": null,
   "id": "9cfc4921-244d-4630-a0d1-36930e510c5b",
   "metadata": {
    "tags": []
   },
   "outputs": [],
   "source": [
    "unique_classes = np.unique(np.concatenate(((predictions, y_test))))\n",
    "confusion_mat = confusion_matrix(predictions, y_test, labels=unique_classes)\n",
    "conf_matrix = pd.DataFrame(confusion_mat, index=unique_classes, columns=unique_classes)\n",
    "\n",
    "# Plot the confusion matrix using seaborn\n",
    "plt.figure(figsize=(5, 4))\n",
    "ax = sns.heatmap(conf_matrix, annot=True,  fmt='.1f', cmap=sns.cubehelix_palette(as_cmap=True), linewidths=0.1, cbar=True)\n",
    "\n",
    "# Set labels and ticks\n",
    "ax.set_xlabel('Predicted Labels')\n",
    "ax.set_ylabel('True Labels')\n",
    "\n",
    "# Set x and y ticks using the unique classes\n",
    "ax.set_xticks(range(len(unique_classes)))\n",
    "ax.set_yticks(range(len(unique_classes)))\n",
    "\n",
    "# Set x and y ticks at the center of the cells\n",
    "ax.set_xticks([i + 0.5 for i in range(len(unique_classes))])\n",
    "ax.set_yticks([i + 0.5 for i in range(len(unique_classes))])\n",
    "\n",
    "plt.show()"
   ]
  },
  {
   "cell_type": "code",
   "execution_count": null,
   "id": "02f83c30-71ff-492c-bd06-40036720ea62",
   "metadata": {
    "tags": []
   },
   "outputs": [],
   "source": [
    "report = classification_report(y_test,predictions, target_names=unique_classes,output_dict=True)# Mostrar el informe de \n",
    "\n",
    "df = pd.DataFrame(report).transpose()\n",
    "df.to_csv(os.path.join(results_path, f\"confusion_matrix_{MODEL_METADATA}.csv\"))\n",
    "print(df)"
   ]
  },
  {
   "cell_type": "code",
   "execution_count": null,
   "id": "9a9e709e-2456-4732-a601-5dea83297913",
   "metadata": {},
   "outputs": [],
   "source": []
  },
  {
   "cell_type": "code",
   "execution_count": null,
   "id": "28f9bf4c-3ff2-41c7-a399-1d490af17d8a",
   "metadata": {},
   "outputs": [],
   "source": []
  }
 ],
 "metadata": {
  "kernelspec": {
   "display_name": "retfound",
   "language": "python",
   "name": "retfound"
  },
  "language_info": {
   "codemirror_mode": {
    "name": "ipython",
    "version": 3
   },
   "file_extension": ".py",
   "mimetype": "text/x-python",
   "name": "python",
   "nbconvert_exporter": "python",
   "pygments_lexer": "ipython3",
   "version": "3.11.10"
  }
 },
 "nbformat": 4,
 "nbformat_minor": 5
}
