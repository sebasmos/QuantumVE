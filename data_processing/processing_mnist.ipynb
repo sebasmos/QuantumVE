{
 "cells": [
  {
   "cell_type": "code",
   "execution_count": 1,
   "id": "1d334a7e-1489-45cf-b224-ed9056b1500c",
   "metadata": {},
   "outputs": [
    {
     "name": "stderr",
     "output_type": "stream",
     "text": [
      "Extracting embeddings: 100%|██████████████████████████████| 938/938 [03:19<00:00,  4.71it/s]\n"
     ]
    },
    {
     "name": "stdout",
     "output_type": "stream",
     "text": [
      "60000 60000\n"
     ]
    },
    {
     "name": "stderr",
     "output_type": "stream",
     "text": [
      "Extracting embeddings: 100%|██████████████████████████████| 157/157 [00:28<00:00,  5.43it/s]\n"
     ]
    },
    {
     "name": "stdout",
     "output_type": "stream",
     "text": [
      "10000 10000\n",
      "Embeddings extracted and saved successfully!\n"
     ]
    }
   ],
   "source": [
    "import os\n",
    "import pandas as pd\n",
    "import torch\n",
    "import torchvision.transforms as transforms\n",
    "from torchvision import datasets\n",
    "from torch.utils.data import DataLoader\n",
    "from torchvision.models import efficientnet_b3\n",
    "import torch.nn as nn\n",
    "import numpy as np\n",
    "from tqdm import tqdm\n",
    "\n",
    "data_path = \"/home/sebastian/codes/data/quantum/MNIST\"\n",
    "output_dir = \"/home/sebastian/codes/data/quantum/embeddings\"\n",
    "batch_size = 64\n",
    "embedding_size = 512\n",
    "\n",
    "os.makedirs(output_dir, exist_ok=True)\n",
    "train_output_dir = os.path.join(output_dir, \"train_embeddings\")\n",
    "test_output_dir = os.path.join(output_dir, \"test_embeddings\")\n",
    "\n",
    "os.makedirs(train_output_dir, exist_ok=True)\n",
    "os.makedirs(test_output_dir, exist_ok=True)\n",
    "\n",
    "transform = transforms.Compose([\n",
    "    transforms.Grayscale(num_output_channels=3),\n",
    "    transforms.Resize((300, 300)),\n",
    "    transforms.ToTensor(),\n",
    "    transforms.Normalize((0.5, 0.5, 0.5), (0.5, 0.5, 0.5))\n",
    "])\n",
    "\n",
    "train_dataset = datasets.MNIST(root=data_path, train=True, download=True, transform=transform)\n",
    "test_dataset = datasets.MNIST(root=data_path, train=False, download=True, transform=transform)\n",
    "\n",
    "dataloader = DataLoader(train_dataset, batch_size=batch_size, shuffle=True)\n",
    "dataloader_test = DataLoader(test_dataset, batch_size=batch_size, shuffle=True)\n",
    "\n",
    "model = efficientnet_b3(weights=\"IMAGENET1K_V1\")\n",
    "model.classifier[1] = nn.Linear(model.classifier[1].in_features, out_features=embedding_size)\n",
    "model.eval()\n",
    "\n",
    "device = 'cuda' if torch.cuda.is_available() else 'cpu'\n",
    "model.to(device)\n",
    "\n",
    "def extract_and_save_embeddings(model, dataloader, device, output_dir, name):\n",
    "    all_embeddings = []\n",
    "    labels = []\n",
    "    index = 0\n",
    "\n",
    "    with torch.no_grad():\n",
    "        for images, targets in tqdm(dataloader, desc=\"Extracting embeddings\"):\n",
    "            images = images.to(device)\n",
    "            embeddings = model(images)\n",
    "\n",
    "            for embedding, target in zip(embeddings.cpu(), targets):\n",
    "                all_embeddings.append(embedding.numpy())\n",
    "                labels.append(target.item())\n",
    "                embedding_df = pd.DataFrame(embedding.numpy()).T\n",
    "                embedding_df['label'] = target.item()\n",
    "                embedding_csv_path = os.path.join(output_dir, f\"{target.item()}_{index}.csv\")\n",
    "                embedding_df.to_csv(embedding_csv_path, index=False)\n",
    "                index += 1\n",
    "\n",
    "    consolidated_df = pd.DataFrame(all_embeddings)\n",
    "    consolidated_df['label'] = labels\n",
    "    consolidated_csv_path = os.path.join(output_dir, f\"{name}_all_embeddings.csv\")\n",
    "    consolidated_df.to_csv(consolidated_csv_path, index=False)\n",
    "    print(len(consolidated_df), index)\n",
    "    \n",
    "extract_and_save_embeddings(model, dataloader, device, train_output_dir, \"train\")\n",
    "extract_and_save_embeddings(model, dataloader_test, device, test_output_dir, \"test\")\n",
    "\n",
    "print(\"Embeddings extracted and saved successfully!\")"
   ]
  }
 ],
 "metadata": {
  "kernelspec": {
   "display_name": "foundational",
   "language": "python",
   "name": "foundational"
  },
  "language_info": {
   "codemirror_mode": {
    "name": "ipython",
    "version": 3
   },
   "file_extension": ".py",
   "mimetype": "text/x-python",
   "name": "python",
   "nbconvert_exporter": "python",
   "pygments_lexer": "ipython3",
   "version": "3.11.10"
  }
 },
 "nbformat": 4,
 "nbformat_minor": 5
}
